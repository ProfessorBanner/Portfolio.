{
 "cells": [
  {
   "cell_type": "code",
   "execution_count": 1,
   "id": "1e2c1a8f",
   "metadata": {},
   "outputs": [],
   "source": [
    "import numpy as np\n",
    "import datetime\n",
    "from numpy import ndarray\n",
    "import pandas as pd\n",
    "from tensorflow import keras\n",
    "from tensorflow.keras import layers, models, preprocessing\n",
    "from tensorflow.keras.callbacks import TensorBoard\n",
    "import torch\n",
    "from tensorflow.keras.datasets import cifar10, imdb\n",
    "from sklearn import metrics\n",
    "from sklearn.metrics import classification_report, confusion_matrix , RocCurveDisplay\n",
    "import torch.nn as nn \n",
    "import matplotlib.pyplot as plt\n",
    "import seaborn as sns\n",
    "import pickle\n",
    "import os\n",
    "import cv2\n",
    "from collections import Counter\n",
    "from tqdm.auto import tqdm"
   ]
  },
  {
   "cell_type": "markdown",
   "id": "35cbb284",
   "metadata": {},
   "source": [
    "### Deep Learning fundamentals with TensorFlow, Keras, and PyTorch"
   ]
  },
  {
   "cell_type": "markdown",
   "id": "131de043",
   "metadata": {},
   "source": [
    "#### Data representation for neural networks"
   ]
  },
  {
   "cell_type": "markdown",
   "id": "d7cc3e95",
   "metadata": {},
   "source": [
    "Data stored in multidimensional NumPy arrays (tensors). It is a container for numerical data.\n",
    "For instance, matrices are rank-2 tensors; tensors are a generalization of matrices to an arbitrary number of dimensions\n"
   ]
  },
  {
   "cell_type": "code",
   "execution_count": 2,
   "id": "7ca75cb5",
   "metadata": {},
   "outputs": [],
   "source": [
    "# Define a function to print an object and its ndim/shape\n",
    "def array_info(x):\n",
    "    print(f'The object:\\n{x}')\n",
    "    print(f'Has {x.ndim} dimension(s)')\n",
    "    print(f'And has {x.shape} shape')"
   ]
  },
  {
   "cell_type": "code",
   "execution_count": 3,
   "id": "d90485ce",
   "metadata": {},
   "outputs": [
    {
     "name": "stdout",
     "output_type": "stream",
     "text": [
      "The object:\n",
      "77\n",
      "Has 0 dimension(s)\n",
      "And has () shape\n"
     ]
    }
   ],
   "source": [
    "# Scalar\n",
    "x = np.array(77)\n",
    "array_info(x)"
   ]
  },
  {
   "cell_type": "code",
   "execution_count": 4,
   "id": "135bc06f",
   "metadata": {},
   "outputs": [
    {
     "name": "stdout",
     "output_type": "stream",
     "text": [
      "The object:\n",
      "[29 35 10 29 32 21 21  7 23 32]\n",
      "Has 1 dimension(s)\n",
      "And has (10,) shape\n"
     ]
    }
   ],
   "source": [
    "# Vector\n",
    "x = np.random.randint(40, size=10)\n",
    "array_info(x)"
   ]
  },
  {
   "cell_type": "code",
   "execution_count": 5,
   "id": "177918c2",
   "metadata": {},
   "outputs": [
    {
     "name": "stdout",
     "output_type": "stream",
     "text": [
      "The object:\n",
      "[[78 57  5 99 94 77]\n",
      " [74  3 58 57 83 72]\n",
      " [41 78  9 49 38 52]\n",
      " [67 96  7 71  3 79]]\n",
      "Has 2 dimension(s)\n",
      "And has (4, 6) shape\n"
     ]
    }
   ],
   "source": [
    "# Matrix\n",
    "x = np.random.randint(100, size=(4, 6))\n",
    "array_info(x)"
   ]
  },
  {
   "cell_type": "code",
   "execution_count": 6,
   "id": "3d6812ce",
   "metadata": {},
   "outputs": [
    {
     "name": "stdout",
     "output_type": "stream",
     "text": [
      "The object:\n",
      "[[[38  4 33 82 46]\n",
      "  [26 29 24 34 27]\n",
      "  [30 55  8 40 74]]\n",
      "\n",
      " [[33 77 83 34 62]\n",
      "  [52 85 24 23 31]\n",
      "  [32 14 31 26 51]]\n",
      "\n",
      " [[31 34 36 92 63]\n",
      "  [ 5 97 71 41 76]\n",
      "  [80 81 80 93 96]]\n",
      "\n",
      " [[31 71 12 66 58]\n",
      "  [66 11 24  6 62]\n",
      "  [37 57 54 68 18]]]\n",
      "Has 3 dimension(s)\n",
      "And has (4, 3, 5) shape\n"
     ]
    }
   ],
   "source": [
    "# Tensor\n",
    "x = np.random.randint(100, size=(4, 3, 5))\n",
    "array_info(x)"
   ]
  },
  {
   "cell_type": "code",
   "execution_count": 7,
   "id": "8c1013a1",
   "metadata": {},
   "outputs": [],
   "source": [
    "# Manipulations with tensors using numpy "
   ]
  },
  {
   "cell_type": "code",
   "execution_count": 8,
   "id": "8aa22557",
   "metadata": {},
   "outputs": [],
   "source": [
    "(train_images, train_labels), (test_images, test_labels) = cifar10.load_data()"
   ]
  },
  {
   "cell_type": "code",
   "execution_count": 20,
   "id": "d370f887",
   "metadata": {},
   "outputs": [],
   "source": [
    "image = train_images[2:6]"
   ]
  },
  {
   "cell_type": "code",
   "execution_count": 9,
   "id": "d28e63c3",
   "metadata": {},
   "outputs": [
    {
     "data": {
      "text/plain": [
       "(50000, 32, 32, 3)"
      ]
     },
     "execution_count": 9,
     "metadata": {},
     "output_type": "execute_result"
    }
   ],
   "source": [
    "train_images.shape"
   ]
  },
  {
   "cell_type": "code",
   "execution_count": 109,
   "id": "05518f46",
   "metadata": {},
   "outputs": [],
   "source": [
    "sliced = train_images[10:30]"
   ]
  },
  {
   "cell_type": "code",
   "execution_count": 11,
   "id": "156b63ed",
   "metadata": {},
   "outputs": [
    {
     "data": {
      "image/png": "[encoded data removed]",
      "text/plain": [
       "<Figure size 640x480 with 1 Axes>"
      ]
     },
     "metadata": {},
     "output_type": "display_data"
    }
   ],
   "source": [
    "image = train_images[6]\n",
    "plt.imshow(image)\n",
    "plt.show()"
   ]
  },
  {
   "cell_type": "code",
   "execution_count": 162,
   "id": "e6499e5f",
   "metadata": {},
   "outputs": [
    {
     "data": {
      "image/png": "[encoded data removed]",
      "text/plain": [
       "<Figure size 640x480 with 4 Axes>"
      ]
     },
     "metadata": {},
     "output_type": "display_data"
    }
   ],
   "source": [
    "sliced = train_images[2:6]\n",
    "fig, ax = plt.subplots(1, 4)\n",
    "for i, obj in enumerate(ax):\n",
    "    obj.imshow(sliced[i])\n",
    "plt.tight_layout()\n",
    "plt.show()"
   ]
  },
  {
   "cell_type": "code",
   "execution_count": 163,
   "id": "1a5fb5b8",
   "metadata": {},
   "outputs": [
    {
     "data": {
      "text/plain": [
       "(4, 32, 32, 3)"
      ]
     },
     "execution_count": 163,
     "metadata": {},
     "output_type": "execute_result"
    }
   ],
   "source": [
    "sliced.shape"
   ]
  },
  {
   "cell_type": "code",
   "execution_count": 164,
   "id": "6811c3a0",
   "metadata": {},
   "outputs": [
    {
     "data": {
      "text/plain": [
       "array([[25, 34, 35, ..., 67, 72, 76],\n",
       "       [28, 30, 27, ..., 82, 82, 72],\n",
       "       [32, 33, 50, ..., 76, 89, 77],\n",
       "       ...,\n",
       "       [73, 77, 74, ..., 93, 84, 75],\n",
       "       [72, 74, 77, ..., 74, 70, 76],\n",
       "       [78, 75, 75, ..., 47, 56, 65]], dtype=uint8)"
      ]
     },
     "execution_count": 164,
     "metadata": {},
     "output_type": "execute_result"
    }
   ],
   "source": [
    "sliced[1,:,:,1]"
   ]
  },
  {
   "cell_type": "markdown",
   "id": "2d4ae7a9",
   "metadata": {},
   "source": [
    "### Neural networks"
   ]
  },
  {
   "cell_type": "markdown",
   "id": "26d211d4",
   "metadata": {},
   "source": [
    "Neural networks are powerful function approximators and can be visualized as a graph. They utilize a graph structure to represent a sequence of computational steps that map an input feature vector to an output value, which is commonly interpreted as a probability.\n",
    "\n",
    "Neural networks are constructed in layers. Conceptually, they operate from left to right, mapping an input feature vector to the output(s) by propagating values along the edges to the nodes.\n",
    "\n",
    "It's worth noting that the nodes of a neural network are commonly referred to as neurons due to their similarity to biological neurons. The nodes calculate new values based on their inputs.\n",
    "\n",
    "The updated values are then passed to the next layer of nodes, and this process continues until the output nodes are reached."
   ]
  },
  {
   "cell_type": "markdown",
   "id": "a2317004",
   "metadata": {},
   "source": [
    "#### What is TensorFlow (TF)?\n",
    "TensorFlow is a powerful open-source software library developed by the Google Brain Team for deep\n",
    "neural networks,"
   ]
  },
  {
   "cell_type": "markdown",
   "id": "5ffba233",
   "metadata": {},
   "source": [
    "#### Layer"
   ]
  },
  {
   "cell_type": "markdown",
   "id": "2c85e1d7",
   "metadata": {},
   "source": [
    "The fundamental component of neural networks is the layer, which takes in data and transforms it into a more useful form. Specifically, layers extract representations from the input data, ideally producing meaningful representations that enhance the network's ability to solve a given problem. A neural network can be seen as a combination of these simple layers, working together to distill and refine the data."
   ]
  },
  {
   "cell_type": "code",
   "execution_count": null,
   "id": "7ec2039b",
   "metadata": {},
   "outputs": [],
   "source": [
    "# Example of a layer implemented from scrath\n",
    "# Example of a layer implemented from scrath\n",
    "\n",
    "class Layer(object):\n",
    "    '''\n",
    "    A \"layer\" of neurons in a neural network.\n",
    "    '''\n",
    "\n",
    "    def __init__(self, neurons: int):\n",
    "        '''\n",
    "        The number of \"neurons\" roughly corresponds to the \"breadth\" of the\n",
    "        layer\n",
    "        '''\n",
    "        self.neurons = neurons\n",
    "        self.first = True\n",
    "        self.params: List[ndarray] = []\n",
    "        self.param_grads: List[ndarray] = []\n",
    "        self.operations: List[Operation] = []\n",
    "\n",
    "    def _setup_layer(self, num_in: int) -> None:\n",
    "        '''\n",
    "        The _setup_layer function must be implemented for each layer.\n",
    "        '''\n",
    "        raise NotImplementedError()\n",
    "\n",
    "    def forward(self, input_: ndarray) -> ndarray:\n",
    "        '''\n",
    "        Passes input forward through a series of operations.\n",
    "        '''\n",
    "        if self.first:\n",
    "            self._setup_layer(input_)\n",
    "            self.first = False\n",
    "        self.input_ = input_\n",
    "        for operation in self.operations:\n",
    "            input_ = operation.forward(input_)\n",
    "            self.output = input_\n",
    "        return self.output\n",
    "\n",
    "    def backward(self, output_grad: ndarray) -> ndarray:\n",
    "        '''\n",
    "        Passes output_grad backward through a series of operations.\n",
    "        Checks appropriate shapes.\n",
    "        '''\n",
    "        for operation in reversed(self.operations):\n",
    "            output_grad = operation.backward(output_grad)\n",
    "        input_grad = output_grad\n",
    "        self._param_grads()\n",
    "        return input_grad\n",
    "\n",
    "    def _param_grads(self) -> ndarray:\n",
    "        '''\n",
    "        Extracts the _param_grads from a layer's operations.\n",
    "        '''\n",
    "        self.param_grads = []\n",
    "        for operation in self.operations:\n",
    "            if issubclass(operation.__class__, ParamOperation):\n",
    "                self.param_grads.append(operation.param_grad)\n",
    "\n",
    "    def _params(self) -> ndarray:\n",
    "        '''\n",
    "        Extracts the _params from a layer's operations.\n",
    "        '''\n",
    "        self.params = []\n",
    "        for operation in self.operations:\n",
    "            if issubclass(operation.__class__, ParamOperation):\n",
    "                self.params.append(operation.param)"
   ]
  },
  {
   "cell_type": "markdown",
   "id": "8bd0db9d",
   "metadata": {},
   "source": [
    "The Dense Layer, also known as a fully connected layer or a Dense layer in libraries like Keras, is a layer in a neural network where each output neuron is a function of all the input neurons. It is characterized by performing a matrix multiplication to compute new features. In our implementation, we can define the Dense layer by using the previously defined Operations in a list within the _setup_layer function of the Layer base class"
   ]
  },
  {
   "cell_type": "code",
   "execution_count": null,
   "id": "8ca6957d",
   "metadata": {},
   "outputs": [],
   "source": [
    "class Dense(Layer):\n",
    "    \n",
    "    def __init__(self, neurons: int, activation: Operation = sigmoid()) -> None:\n",
    "        '''\n",
    "        Requires an activation function upon initialization.\n",
    "        '''\n",
    "        super().__init__(neurons)\n",
    "        self.activation = activation\n",
    "    \n",
    "    def _setup_layer(self, input_: ndarray) -> None:\n",
    "        '''\n",
    "        Defines the operations of a fully connected layer.\n",
    "        '''\n",
    "        if self.seed:\n",
    "            np.random.seed(self.seed)\n",
    "        self.params = []\n",
    "        # weights\n",
    "        self.params.append(np.random.randn(input_.shape[1], self.neurons))\n",
    "        # bias\n",
    "        self.params.append(np.random.randn(1, self.neurons))\n",
    "        self.operations = [\n",
    "            WeightMultiply(self.params[0]),\n",
    "            BiasAdd(self.params[1]),\n",
    "            self.activation\n",
    "        ]\n",
    "        return None"
   ]
  },
  {
   "cell_type": "code",
   "execution_count": 38,
   "id": "e06c91bd",
   "metadata": {},
   "outputs": [],
   "source": [
    "# Layer object in Keras"
   ]
  },
  {
   "cell_type": "code",
   "execution_count": 117,
   "id": "070bc7cd",
   "metadata": {},
   "outputs": [],
   "source": [
    "keras.Sequential([keras.layers.Dense(1)]);"
   ]
  },
  {
   "cell_type": "markdown",
   "id": "546f3d19",
   "metadata": {},
   "source": [
    "#### Neural network model "
   ]
  },
  {
   "cell_type": "markdown",
   "id": "e943cf0d",
   "metadata": {},
   "source": [
    "The NeuralNetwork class is designed to define and train deep learning models. It consists of a list of Layers, each containing Operations with forward and backward methods. The output of the last operation is passed to a Loss class, which calculates the loss value and loss gradient for backpropagation."
   ]
  },
  {
   "cell_type": "code",
   "execution_count": null,
   "id": "ced54184",
   "metadata": {},
   "outputs": [],
   "source": [
    "# Example of a neural network impelementation from scratch"
   ]
  },
  {
   "cell_type": "code",
   "execution_count": 43,
   "id": "294cf5e2",
   "metadata": {},
   "outputs": [],
   "source": [
    "class NeuralNetwork(object):\n",
    "    '''\n",
    "    The class for a neural network.\n",
    "    '''\n",
    "\n",
    "    def __init__(self, layers: list[Layer], loss: Loss, seed: float = 1):\n",
    "        '''\n",
    "        Neural networks need layers, and a loss.\n",
    "        '''\n",
    "        self.layers = layers\n",
    "        self.loss = loss\n",
    "        self.seed = seed\n",
    "        if seed:\n",
    "            for layer in self.layers:\n",
    "                setattr(layer, \"seed\", self.seed)\n",
    "\n",
    "    def forward(self, x_batch: ndarray) -> ndarray:\n",
    "        '''\n",
    "        Passes data forward through a series of layers.\n",
    "        '''\n",
    "        x_out = x_batch\n",
    "        for layer in self.layers:\n",
    "            x_out = layer.forward(x_out)\n",
    "        return x_out\n",
    "\n",
    "    def backward(self, loss_grad: ndarray) -> None:\n",
    "        '''\n",
    "        Passes data backward through a series of layers.\n",
    "        '''\n",
    "        grad = loss_grad\n",
    "        for layer in reversed(self.layers):\n",
    "            grad = layer.backward(grad)\n",
    "        return None\n",
    "\n",
    "    def train_batch(self, x_batch: ndarray, y_batch: ndarray) -> float:\n",
    "        '''\n",
    "        Passes data forward through the layers.\n",
    "        Computes the loss.\n",
    "        Passes data backward through the layers.\n",
    "        '''\n",
    "        predictions = self.forward(x_batch)\n",
    "        loss = self.loss.forward(predictions, y_batch)\n",
    "        self.backward(self.loss.backward())\n",
    "        return loss\n",
    "\n",
    "    def params(self):\n",
    "        '''\n",
    "        Gets the parameters for the network.\n",
    "        '''\n",
    "        for layer in self.layers:\n",
    "            yield from layer.params\n",
    "\n",
    "    def param_grads(self):\n",
    "        '''\n",
    "        Gets the gradient of the loss with respect to the parameters for the network.\n",
    "        '''\n",
    "        for layer in self.layers:\n",
    "            yield from layer.param_grads\n"
   ]
  },
  {
   "cell_type": "markdown",
   "id": "f492a678",
   "metadata": {},
   "source": [
    "A deep learning model can be visualized as a graph consisting of layers. In Keras, this is represented by the Model class. "
   ]
  },
  {
   "cell_type": "code",
   "execution_count": 118,
   "id": "26dfca66",
   "metadata": {},
   "outputs": [],
   "source": [
    "model = keras.Sequential([keras.layers.Dense(1)])"
   ]
  },
  {
   "cell_type": "markdown",
   "id": "d244e76f",
   "metadata": {},
   "source": [
    "#### Configuring the learning process"
   ]
  },
  {
   "cell_type": "markdown",
   "id": "3cd85fee",
   "metadata": {},
   "source": [
    "\n",
    "The \"compile\" step involves configuring the learning process of a neural network. Once the model architecture is defined, there are three additional choices to be made:\n",
    "\n",
    "- Loss function: (objective function): This quantity will be minimized during training.\n",
    "\n",
    "- Optimizer: Determines how the network will be updated based on the loss function.\n",
    "\n",
    "- Metrics: These are the measures of success that you want to monitor during training and validation, such as classification accuracy. "
   ]
  },
  {
   "cell_type": "code",
   "execution_count": 42,
   "id": "dcb8387f",
   "metadata": {},
   "outputs": [],
   "source": [
    "# Example of loss function class from scratch \n",
    "\n",
    "class Loss(object):\n",
    "    '''\n",
    "    The \"loss\" of a neural network.\n",
    "    '''\n",
    "\n",
    "    def __init__(self):\n",
    "        '''Pass'''\n",
    "        pass\n",
    "\n",
    "    def forward(self, prediction: ndarray, target: ndarray) -> float:\n",
    "        '''\n",
    "        Computes the actual loss value.\n",
    "        '''\n",
    "        assert_same_shape(prediction, target)\n",
    "        self.prediction = prediction\n",
    "        self.target = target\n",
    "        loss_value = self._output()\n",
    "        return loss_value\n",
    "\n",
    "    def backward(self) -> ndarray:\n",
    "        '''\n",
    "        Computes gradient of the loss value with respect to the input to the\n",
    "        loss function.\n",
    "        '''\n",
    "        self.input_grad = self._input_grad()\n",
    "        assert_same_shape(self.prediction, self.input_grad)\n",
    "        return self.input_grad\n",
    "\n",
    "    def _output(self) -> float:\n",
    "        '''\n",
    "        Every subclass of \"Loss\" must implement the _output function.\n",
    "        '''\n",
    "        raise NotImplementedError()\n",
    "\n",
    "    def _input_grad(self) -> ndarray:\n",
    "        '''\n",
    "        Every subclass of \"Loss\" must implement the _input_grad function.\n",
    "        '''\n",
    "        raise NotImplementedError()\n"
   ]
  },
  {
   "cell_type": "code",
   "execution_count": 46,
   "id": "bc844d55",
   "metadata": {},
   "outputs": [],
   "source": [
    "class MeanSquaredError(Loss):\n",
    "    def __init__(self):\n",
    "        '''Pass'''\n",
    "        super().__init__()\n",
    "\n",
    "    def _output(self) -> float:\n",
    "        '''\n",
    "        Computes the per-observation squared error loss.\n",
    "        '''\n",
    "        loss = np.sum(np.power(self.prediction - self.target, 2)) / self.prediction.shape[0]\n",
    "        return loss\n",
    "\n",
    "    def _input_grad(self) -> ndarray:\n",
    "        '''\n",
    "        Computes the loss gradient with respect to the input for MSE loss.\n",
    "        '''\n",
    "        return 2.0 * (self.prediction - self.target) / self.prediction.shape[0]\n"
   ]
  },
  {
   "cell_type": "code",
   "execution_count": 39,
   "id": "7783175a",
   "metadata": {},
   "outputs": [],
   "source": [
    "# Example of optimizer from scratch\n",
    "\n",
    "class Optimizer(object):\n",
    "    '''\n",
    "    Base class for a neural network optimizer.\n",
    "    '''\n",
    "\n",
    "    def __init__(self, lr: float = 0.01):\n",
    "        '''\n",
    "        Every optimizer must have an initial learning rate.\n",
    "        '''\n",
    "        self.lr = lr\n",
    "\n",
    "    def step(self) -> None:\n",
    "        '''\n",
    "        Every optimizer must implement the \"step\" function.\n",
    "        '''\n",
    "        pass\n",
    "\n",
    "\n",
    "class SGD(Optimizer):\n",
    "    '''\n",
    "    Stochastic gradient descent optimizer.\n",
    "    '''\n",
    "\n",
    "    def __init__(self, lr: float = 0.01) -> None:\n",
    "        '''Pass'''\n",
    "        super().__init__(lr)\n",
    "\n",
    "    def step(self):\n",
    "        '''\n",
    "        For each parameter, adjust in the appropriate direction, with the\n",
    "        magnitude of the adjustment based on the learning rate.\n",
    "        '''\n",
    "        for (param, param_grad) in zip(self.net.params(), self.net.param_grads()):\n",
    "            param -= self.lr * param_grad\n"
   ]
  },
  {
   "cell_type": "code",
   "execution_count": 44,
   "id": "15ff35e8",
   "metadata": {},
   "outputs": [],
   "source": [
    "### Optimizer, loss, and metrics realizatins in Keras"
   ]
  },
  {
   "cell_type": "code",
   "execution_count": null,
   "id": "044905c7",
   "metadata": {},
   "outputs": [],
   "source": [
    "model.compile(optimizer=\"SGD\", # Optimizer\n",
    "              loss=\"mean_squared_error\", # Loss function\n",
    "              metrics=[\"accuracy\"]) # Metrics"
   ]
  },
  {
   "cell_type": "markdown",
   "id": "667c748d",
   "metadata": {},
   "source": [
    "#### Activation function"
   ]
  },
  {
   "cell_type": "markdown",
   "id": "7b6139e5",
   "metadata": {},
   "source": [
    "An Activation Function decides whether a neuron should be activated or not. This means that it will decide whether the neuron's input to the network is important or not in the process of prediction using simpler mathematical operations.\n",
    "\n",
    "Examples of the activation function: ReLu, Sigmoid, Tanh. ReLu is also called rectified because it removes the negative values and replaces them with 0."
   ]
  },
  {
   "cell_type": "code",
   "execution_count": 123,
   "id": "9eaece78",
   "metadata": {},
   "outputs": [
    {
     "data": {
      "text/plain": [
       "tensor([-3.0000e+00, -2.9000e+00, -2.8000e+00, -2.7000e+00, -2.6000e+00,\n",
       "        -2.5000e+00, -2.4000e+00, -2.3000e+00, -2.2000e+00, -2.1000e+00,\n",
       "        -2.0000e+00, -1.9000e+00, -1.8000e+00, -1.7000e+00, -1.6000e+00,\n",
       "        -1.5000e+00, -1.4000e+00, -1.3000e+00, -1.2000e+00, -1.1000e+00,\n",
       "        -1.0000e+00, -9.0000e-01, -8.0000e-01, -7.0000e-01, -6.0000e-01,\n",
       "        -5.0000e-01, -4.0000e-01, -3.0000e-01, -2.0000e-01, -1.0000e-01,\n",
       "        -1.4901e-08,  1.0000e-01,  2.0000e-01,  3.0000e-01,  4.0000e-01,\n",
       "         5.0000e-01,  6.0000e-01,  7.0000e-01,  8.0000e-01,  9.0000e-01,\n",
       "         1.0000e+00,  1.1000e+00,  1.2000e+00,  1.3000e+00,  1.4000e+00,\n",
       "         1.5000e+00,  1.6000e+00,  1.7000e+00,  1.8000e+00,  1.9000e+00,\n",
       "         2.0000e+00,  2.1000e+00,  2.2000e+00,  2.3000e+00,  2.4000e+00,\n",
       "         2.5000e+00,  2.6000e+00,  2.7000e+00,  2.8000e+00,  2.9000e+00])"
      ]
     },
     "execution_count": 123,
     "metadata": {},
     "output_type": "execute_result"
    }
   ],
   "source": [
    "data = torch.arange(-3, 3, 0.1)\n",
    "data"
   ]
  },
  {
   "cell_type": "code",
   "execution_count": 159,
   "id": "03f609e4",
   "metadata": {
    "scrolled": true
   },
   "outputs": [
    {
     "data": {
      "image/png": "[encoded data removed]",
      "text/plain": [
       "<Figure size 800x800 with 4 Axes>"
      ]
     },
     "metadata": {},
     "output_type": "display_data"
    }
   ],
   "source": [
    "act_func = [torch.nn.ReLU(),\n",
    "            torch.nn.Tanh(),\n",
    "            torch.nn.GELU(),\n",
    "            torch.nn.Tanhshrink()\n",
    "           ]\n",
    "\n",
    "fig = plt.figure(figsize=(8,8))\n",
    "\n",
    "for i in range(len(act_func)):\n",
    "            plt.subplot(2,2,i+1)\n",
    "            plt.plot(act_func[i](data))\n",
    "            plt.title(f\"{act_func[i]} activation function\")\n",
    "            plt.tight_layout()\n",
    "            plt.plot()"
   ]
  },
  {
   "cell_type": "markdown",
   "id": "329b916a",
   "metadata": {},
   "source": [
    "### Fitting model"
   ]
  },
  {
   "cell_type": "markdown",
   "id": "3f947e90",
   "metadata": {},
   "source": [
    "The Trainer class is responsible for training the model and linking the NeuralNetwork with the Optimizer. It includes the fit method, which trains the model for a specified number of epochs. During each epoch, the data is shuffled, and batches are fed through the network for parameter updates. The Trainer class ensures that the entire training set is processed."
   ]
  },
  {
   "cell_type": "code",
   "execution_count": 45,
   "id": "ae247e0c",
   "metadata": {},
   "outputs": [],
   "source": [
    "# Example of a trainer class from scratch \n",
    "\n",
    "class Trainer(object):\n",
    "    '''\n",
    "    Trains a neural network.\n",
    "    '''\n",
    "\n",
    "    def __init__(self, net: NeuralNetwork, optim: Optimizer):\n",
    "        '''\n",
    "        Requires a neural network and an optimizer in order for training to occur.\n",
    "        Assign the neural network as an instance variable to the optimizer.\n",
    "        '''\n",
    "        self.net = net\n",
    "        setattr(self.optim, 'net', self.net)\n",
    "\n",
    "    def fit(self, X_train: ndarray, y_train: ndarray, X_test: ndarray, y_test: ndarray,\n",
    "            epochs: int=100, eval_every: int=10, batch_size: int=32, seed: int = 1,\n",
    "            restart: bool = True) -> None:\n",
    "        '''\n",
    "        Fits the neural network on the training data for a certain number of epochs.\n",
    "        Every \"eval_every\" epochs, it evaluates the neural network on the testing data.\n",
    "        '''\n",
    "        np.random.seed(seed)\n",
    "        if restart:\n",
    "            for layer in self.net.layers:\n",
    "                layer.first = True\n",
    "        for e in range(epochs):\n",
    "            X_train, y_train = permute_data(X_train, y_train)\n",
    "            batch_generator = self.generate_batches(X_train, y_train, batch_size)\n",
    "            for ii, (X_batch, y_batch) in enumerate(batch_generator):\n",
    "                self.net.train_batch(X_batch, y_batch)\n",
    "                self.optim.step()\n",
    "            if (e+1) % eval_every == 0:\n",
    "                test_preds = self.net.forward(X_test)\n",
    "                loss = self.net.loss.forward(test_preds, y_test)\n",
    "                print(f\"Validation loss after {e+1} epochs is {loss:.3f}\")\n"
   ]
  },
  {
   "cell_type": "markdown",
   "id": "202966c3",
   "metadata": {},
   "source": [
    "The code below demonstrates the process of training a network by combining the Trainer and Optimizer classes with the model and neural_network class."
   ]
  },
  {
   "cell_type": "code",
   "execution_count": null,
   "id": "1f644073",
   "metadata": {},
   "outputs": [],
   "source": [
    "# Define a model \n",
    "nn_model = NeuralNetwork(\n",
    "    layers=[\n",
    "        Dense(neurons=25, activation=Sigmoid()),\n",
    "        Dense(neurons=25, activation=Tanh()),\n",
    "        Dense(neurons=1, activation=LinearAct())\n",
    "    ],\n",
    "    loss=MeanSquaredError(),\n",
    "    learning_rate=0.01\n",
    ")"
   ]
  },
  {
   "cell_type": "code",
   "execution_count": null,
   "id": "9563047f",
   "metadata": {},
   "outputs": [],
   "source": [
    "optimizer = SGD()\n",
    "trainer = Trainer(nn_model, optimizer)\n",
    "trainer.fit(X_train, y_train, X_test, y_test,\n",
    "epochs = 100,\n",
    "eval_every = 5,\n",
    "seed=77);"
   ]
  },
  {
   "cell_type": "code",
   "execution_count": null,
   "id": "addf25b9",
   "metadata": {},
   "outputs": [],
   "source": [
    "# In Keras this step is implemented with fit method"
   ]
  },
  {
   "cell_type": "code",
   "execution_count": null,
   "id": "cb3002ea",
   "metadata": {},
   "outputs": [],
   "source": [
    "model_0 = model.fit(\n",
    "    inputs, # Examples\n",
    "    targets, # Targets\n",
    "    epochs=5, \n",
    "    batch_size=128\n",
    ")"
   ]
  },
  {
   "cell_type": "code",
   "execution_count": null,
   "id": "95e33a51",
   "metadata": {},
   "outputs": [],
   "source": [
    "# Model evaluation in Keras\n",
    "history = model_0.evaluate(X_test,\n",
    "                       y_test,\n",
    "                       batch_size=BATCH_SIZE)\n"
   ]
  },
  {
   "cell_type": "markdown",
   "id": "f91d46cd",
   "metadata": {},
   "source": [
    "#### Regularization"
   ]
  },
  {
   "cell_type": "markdown",
   "id": "48287900",
   "metadata": {},
   "source": [
    "Regularization is a set of practices that push the network to learn the relevant features of the parent distribution rather than the details of the training set. Here are some common regularization techniques:\n",
    "\n",
    "1. **Parameter Norm Penalties**\n",
    "   - L1 (Lasso) Regularization\n",
    "   - L2 (Ridge) Regularization\n",
    "\n",
    "2. **Dropout**\n",
    "   - Dropout trains the ensemble consisting of all sub-networks that can be formed by removing non-output units from an underlying base network.\n",
    "\n",
    "3. **Early Stopping**\n",
    "   - Returning to the parameter setting at the point in time with the lowest validation set error.\n",
    "\n",
    "4. **Data Augmentation**\n",
    "   - Creating synthetic data and adding it to the training set.\n",
    "\n",
    "5. **Injecting Noise at the Output Targets**\n",
    "<br>\n",
    "6. **Model averaging with bagging and ensembles**"
   ]
  },
  {
   "cell_type": "markdown",
   "id": "10b6ecda",
   "metadata": {},
   "source": [
    "### An example of end-to-end model training for binary classification with Keras \n",
    "Dataset : imdb film reviews (texts) and sentiments (positive/negative)"
   ]
  },
  {
   "cell_type": "markdown",
   "id": "643d6feb",
   "metadata": {},
   "source": [
    "#### Setting up TensorBoard\n",
    "TensorBoard is a tool for providing the measurements and visualizations needed during the machine learning workflow. It enables tracking experiment metrics like loss and accuracy, visualizing the model graph, projecting embeddings to a lower dimensional space\n"
   ]
  },
  {
   "cell_type": "code",
   "execution_count": 2,
   "id": "288ab9e3",
   "metadata": {},
   "outputs": [],
   "source": [
    "log_folder = \"logs/fit/\" + datetime.datetime.now().strftime(\"%Y%m%d-%H%M%S\")"
   ]
  },
  {
   "cell_type": "code",
   "execution_count": 3,
   "id": "e35d7f7e",
   "metadata": {},
   "outputs": [],
   "source": [
    "%load_ext tensorboard"
   ]
  },
  {
   "cell_type": "code",
   "execution_count": 4,
   "id": "bb47712e",
   "metadata": {},
   "outputs": [],
   "source": [
    "callbacks = keras.callbacks.TensorBoard(log_dir = log_folder,\n",
    "                                        update_freq='epoch',\n",
    "                                        histogram_freq = 1)"
   ]
  },
  {
   "cell_type": "code",
   "execution_count": 5,
   "id": "928db70b",
   "metadata": {},
   "outputs": [
    {
     "data": {
      "text/html": [
       "\n",
       "      <iframe id=\"tensorboard-frame-f2f081d2730a9d51\" width=\"100%\" height=\"800\" frameborder=\"0\">\n",
       "      </iframe>\n",
       "      <script>\n",
       "        (function() {\n",
       "          const frame = document.getElementById(\"tensorboard-frame-f2f081d2730a9d51\");\n",
       "          const url = new URL(\"/\", window.location);\n",
       "          const port = 6006;\n",
       "          if (port) {\n",
       "            url.port = port;\n",
       "          }\n",
       "          frame.src = url;\n",
       "        })();\n",
       "      </script>\n",
       "    "
      ],
      "text/plain": [
       "<IPython.core.display.HTML object>"
      ]
     },
     "metadata": {},
     "output_type": "display_data"
    }
   ],
   "source": [
    "%tensorboard --logdir={log_folder}"
   ]
  },
  {
   "cell_type": "code",
   "execution_count": null,
   "id": "9319ff0f",
   "metadata": {},
   "outputs": [],
   "source": [
    "# Defininng model parameters"
   ]
  },
  {
   "cell_type": "code",
   "execution_count": 6,
   "id": "e10e8f6f",
   "metadata": {},
   "outputs": [],
   "source": [
    "max_len = 400\n",
    "n_words = 10000\n",
    "dim_embedding = 256\n",
    "epochs = 10 # the number of complete passes through the training dataset\n",
    "batch_size = 300 # is a number of observations processed before the model is updated\n",
    "\n",
    "# iterations is the number of batches needed to complete one epoch\n",
    "\n",
    "validation_split = 0.2 # how much train dataset is reserved for validation\n",
    "dropout = 0.3 # the dropout hyperparameter is the probability of training a given node in a layer (1-no dropout, 0- no output from the layer)\n"
   ]
  },
  {
   "cell_type": "code",
   "execution_count": 7,
   "id": "a30c8938",
   "metadata": {},
   "outputs": [],
   "source": [
    "#Download the dataset containing movie reviews with binary labels (positive and negative).\n",
    "(X_train, y_train), (X_test, y_test) = imdb.load_data(num_words=n_words)"
   ]
  },
  {
   "cell_type": "code",
   "execution_count": 8,
   "id": "811dd455",
   "metadata": {},
   "outputs": [
    {
     "data": {
      "text/plain": [
       "374"
      ]
     },
     "execution_count": 8,
     "metadata": {},
     "output_type": "execute_result"
    }
   ],
   "source": [
    "len(X_train.max())"
   ]
  },
  {
   "cell_type": "code",
   "execution_count": 9,
   "id": "6a10f667",
   "metadata": {},
   "outputs": [
    {
     "name": "stdout",
     "output_type": "stream",
     "text": [
      "218\n",
      "189\n",
      "141\n",
      "550\n",
      "147\n"
     ]
    }
   ],
   "source": [
    "# Lengths  of reviews\n",
    "reviews = X_train[0:5]\n",
    "for i in reviews:\n",
    "    print(len(i))"
   ]
  },
  {
   "cell_type": "code",
   "execution_count": 10,
   "id": "8e6d95e2",
   "metadata": {},
   "outputs": [],
   "source": [
    "# back to text \n",
    "word_index = imdb.get_word_index()\n",
    "reverse_word_index = dict([(value, key) for (key, value) in word_index.items()])\n",
    "decoded_review = \" \".join([reverse_word_index.get(i - 3, \"?\") for i in X_train[2]])"
   ]
  },
  {
   "cell_type": "code",
   "execution_count": 11,
   "id": "a1dfd319",
   "metadata": {},
   "outputs": [
    {
     "data": {
      "text/plain": [
       "'? this has to be one of the worst films of the 1990s when my friends i were watching this film being the target audience it was aimed at we just sat watched the first half an hour with our jaws touching the floor at how bad it really was the rest of the time everyone else in the theatre just started'"
      ]
     },
     "execution_count": 11,
     "metadata": {},
     "output_type": "execute_result"
    }
   ],
   "source": [
    "decoded_review[:300]"
   ]
  },
  {
   "cell_type": "markdown",
   "id": "68436884",
   "metadata": {},
   "source": [
    "### Preparing data "
   ]
  },
  {
   "cell_type": "markdown",
   "id": "89cc629c",
   "metadata": {},
   "source": [
    "We can’t directly feed arbitrary lists of integers into a neural network because they all have different\n",
    "lengths. While a neural network expects to process contiguous batches of data. You have to turn your lists into tensors. There are two approaches for this task: \n",
    "\n",
    "-  Pad your lists so that they all have the same length, turn them into an integer tensor of shape (samples, max_length), and start your model with a layer capable of handling such integer tensors (for instance, Embedding layer)\n",
    "\n",
    "-  Multi-hot encode your lists to turn them into vectors of 0s and 1s.  Turning the list [1, 5, 10] into a 1000-dimensional vector that would be all 0s except for indices 1, 5, 10, which would be 1s. After that we can use  Dense layer, capable of handling floating-point vector data, as the first layer in our model.\n",
    "\n",
    "Both approaches presented below"
   ]
  },
  {
   "cell_type": "code",
   "execution_count": 12,
   "id": "5adfb6f1",
   "metadata": {},
   "outputs": [],
   "source": [
    "#Pad sequences to the same length\n",
    "X_train = preprocessing.sequence.pad_sequences(X_train, maxlen=max_len)\n",
    "X_test = preprocessing.sequence.pad_sequences(X_test, maxlen=max_len)"
   ]
  },
  {
   "cell_type": "code",
   "execution_count": 13,
   "id": "b0279351",
   "metadata": {},
   "outputs": [
    {
     "name": "stdout",
     "output_type": "stream",
     "text": [
      "400\n",
      "400\n",
      "400\n",
      "400\n",
      "400\n"
     ]
    }
   ],
   "source": [
    "reviews_padded = X_train[0:5]\n",
    "for i in reviews_padded:\n",
    "    print(len(i))"
   ]
  },
  {
   "cell_type": "code",
   "execution_count": 14,
   "id": "1d42755b",
   "metadata": {},
   "outputs": [
    {
     "data": {
      "text/plain": [
       "'\\ndef vectorizer(text, dimension=10000):\\n    vectorized = np.zeros((len(text), dimension))\\n    for i, text in enumerate(text):\\n        for j in text:\\n            vectorized[i, j] = 1.\\n    return vectorized\\n\\n\\nX_train = vectorizer(train_data)\\nX_test = vectorizer(test_data)\\nX_train[0]\\n\\n# Vectorizing labels \\ny_train = np.asarray(train_labels).astype(\"float32\")\\ny_test = np.asarray(test_labels).astype(\"float32\") \\n'"
      ]
     },
     "execution_count": 14,
     "metadata": {},
     "output_type": "execute_result"
    }
   ],
   "source": [
    "#Multi-hot encode approach\n",
    "'''\n",
    "def vectorizer(text, dimension=10000):\n",
    "    vectorized = np.zeros((len(text), dimension))\n",
    "    for i, text in enumerate(text):\n",
    "        for j in text:\n",
    "            vectorized[i, j] = 1.\n",
    "    return vectorized\n",
    "\n",
    "\n",
    "X_train = vectorizer(train_data)\n",
    "X_test = vectorizer(test_data)\n",
    "X_train[0]\n",
    "\n",
    "# Vectorizing labels \n",
    "y_train = np.asarray(train_labels).astype(\"float32\")\n",
    "y_test = np.asarray(test_labels).astype(\"float32\") \n",
    "''' "
   ]
  },
  {
   "cell_type": "code",
   "execution_count": 15,
   "id": "785547b3",
   "metadata": {},
   "outputs": [],
   "source": [
    "# Build model for padded sequences\n",
    "'''\n",
    "The model will take as input an integer matrix of size (batch, input_length).\n",
    "The model will output dimension (input_length, dim_embedding).\n",
    "The largest integer in the input should be no larger than n_words (vocabulary size)'''\n",
    "\n",
    "def build_model():\n",
    "    \n",
    "    model = models.Sequential([\n",
    "        layers.Embedding(n_words,\n",
    "                         dim_embedding,\n",
    "                         input_length=max_len),\n",
    "        layers.Dropout(0.4),\n",
    "        layers.GlobalMaxPooling1D(),# Takes the maximum value of either feature vector from each of the n_words features.\n",
    "        layers.Dense(128,\n",
    "                     activation='relu'),\n",
    "        layers.Dropout(0.5),\n",
    "        layers.Dense(1,\n",
    "                     activation='sigmoid')\n",
    "    ])\n",
    "    model.compile(optimizer=\"rmsprop\",\n",
    "                  loss=\"binary_crossentropy\",\n",
    "                  metrics=[\"accuracy\"])\n",
    "    return model"
   ]
  },
  {
   "cell_type": "code",
   "execution_count": 16,
   "id": "a5337bbf",
   "metadata": {},
   "outputs": [
    {
     "name": "stdout",
     "output_type": "stream",
     "text": [
      "Model: \"sequential\"\n",
      "_________________________________________________________________\n",
      " Layer (type)                Output Shape              Param #   \n",
      "=================================================================\n",
      " embedding (Embedding)       (None, 400, 256)          2560000   \n",
      "                                                                 \n",
      " dropout (Dropout)           (None, 400, 256)          0         \n",
      "                                                                 \n",
      " global_max_pooling1d (Glob  (None, 256)               0         \n",
      " alMaxPooling1D)                                                 \n",
      "                                                                 \n",
      " dense (Dense)               (None, 128)               32896     \n",
      "                                                                 \n",
      " dropout_1 (Dropout)         (None, 128)               0         \n",
      "                                                                 \n",
      " dense_1 (Dense)             (None, 1)                 129       \n",
      "                                                                 \n",
      "=================================================================\n",
      "Total params: 2593025 (9.89 MB)\n",
      "Trainable params: 2593025 (9.89 MB)\n",
      "Non-trainable params: 0 (0.00 Byte)\n",
      "_________________________________________________________________\n",
      "Epoch 1/10\n",
      "84/84 [==============================] - 9s 103ms/step - loss: 0.6080 - accuracy: 0.6990 - val_loss: 0.4888 - val_accuracy: 0.8416\n",
      "Epoch 2/10\n",
      "84/84 [==============================] - 9s 102ms/step - loss: 0.3595 - accuracy: 0.8571 - val_loss: 0.3443 - val_accuracy: 0.8699\n",
      "Epoch 3/10\n",
      "84/84 [==============================] - 9s 102ms/step - loss: 0.2780 - accuracy: 0.8860 - val_loss: 0.3121 - val_accuracy: 0.8762\n",
      "Epoch 4/10\n",
      "84/84 [==============================] - 8s 99ms/step - loss: 0.2352 - accuracy: 0.9075 - val_loss: 0.2902 - val_accuracy: 0.8840\n",
      "Epoch 5/10\n",
      "84/84 [==============================] - 8s 97ms/step - loss: 0.2064 - accuracy: 0.9199 - val_loss: 0.2795 - val_accuracy: 0.8868\n",
      "Epoch 6/10\n",
      "84/84 [==============================] - 8s 100ms/step - loss: 0.1830 - accuracy: 0.9309 - val_loss: 0.2831 - val_accuracy: 0.8826\n",
      "Epoch 7/10\n",
      "84/84 [==============================] - 8s 97ms/step - loss: 0.1640 - accuracy: 0.9383 - val_loss: 0.2856 - val_accuracy: 0.8796\n",
      "Epoch 8/10\n",
      "84/84 [==============================] - 8s 97ms/step - loss: 0.1466 - accuracy: 0.9459 - val_loss: 0.2803 - val_accuracy: 0.8826\n",
      "Epoch 9/10\n",
      "84/84 [==============================] - 8s 98ms/step - loss: 0.1329 - accuracy: 0.9522 - val_loss: 0.2845 - val_accuracy: 0.8798\n",
      "Epoch 10/10\n",
      "84/84 [==============================] - 9s 101ms/step - loss: 0.1241 - accuracy: 0.9567 - val_loss: 0.2913 - val_accuracy: 0.8757\n"
     ]
    }
   ],
   "source": [
    "# Train model\n",
    "model = build_model()\n",
    "model.summary()\n",
    "history = model.fit(X_train,\n",
    "                  y_train,\n",
    "                  epochs = epochs,\n",
    "                  batch_size = batch_size,\n",
    "                  validation_data = (X_test, y_test),\n",
    "                  callbacks=callbacks\n",
    "                 )"
   ]
  },
  {
   "cell_type": "code",
   "execution_count": 484,
   "id": "2dae1e1f",
   "metadata": {},
   "outputs": [
    {
     "name": "stdout",
     "output_type": "stream",
     "text": [
      "84/84 [==============================] - 1s 10ms/step - loss: 0.3014 - accuracy: 0.8721\n",
      "Test Loss: 0.30139943957328796\n",
      "Test Accuracy :0.8720800280570984\n"
     ]
    }
   ],
   "source": [
    "# Model evaluation. Test loss, accuracy\n",
    "test_loss, test_acc = model.evaluate(X_test,\n",
    "                                     y_test,\n",
    "                                     batch_size=batch_size)\n",
    "\n",
    "print(f'Test Loss: {test_loss}\\nTest Accuracy :{test_acc}')"
   ]
  },
  {
   "cell_type": "code",
   "execution_count": 322,
   "id": "3a091d8d",
   "metadata": {},
   "outputs": [
    {
     "data": {
      "image/png": "[encoded data removed]",
      "text/plain": [
       "<Figure size 800x500 with 1 Axes>"
      ]
     },
     "metadata": {},
     "output_type": "display_data"
    }
   ],
   "source": [
    "# Model evaluation. Train vs test loss and accuracy\n",
    "pd.DataFrame(history.history).plot(figsize=(8, 5),\n",
    "                                 xlim=[0, 15],\n",
    "                                 ylim=[0, 1],\n",
    "                                 grid=True,\n",
    "                                 xlabel=\"Epoch\",\n",
    "                                 style=[\"r\", \"r:p\", \"b-\", \"b:*\"])\n",
    "plt.title('Train-val loss-accuracy')\n",
    "plt.show()"
   ]
  },
  {
   "cell_type": "code",
   "execution_count": 235,
   "id": "95983dce",
   "metadata": {},
   "outputs": [
    {
     "name": "stdout",
     "output_type": "stream",
     "text": [
      "782/782 [==============================] - 1s 1ms/step\n"
     ]
    },
    {
     "data": {
      "text/plain": [
       "array([[0.04],\n",
       "       [1.  ],\n",
       "       [0.82],\n",
       "       [0.83],\n",
       "       [0.99],\n",
       "       [0.96],\n",
       "       [0.74],\n",
       "       [0.1 ],\n",
       "       [0.99],\n",
       "       [0.99]], dtype=float32)"
      ]
     },
     "execution_count": 235,
     "metadata": {},
     "output_type": "execute_result"
    }
   ],
   "source": [
    "# Making predictions\n",
    "predictions = model.predict(X_test)\n",
    "predictions.round(2)[:10]\n",
    "# Conversion to binary values  \n",
    "# predictions=np.rint(predictions) "
   ]
  },
  {
   "cell_type": "code",
   "execution_count": 290,
   "id": "31789bad",
   "metadata": {},
   "outputs": [],
   "source": [
    "# model evaluation with the ROC curve, confusion matrix, and classification report\n",
    "\n",
    "def classifier_evaluation(model, X_test, y_test):\n",
    "    # Predict using the model\n",
    "    predictions = model.predict(X_test)\n",
    "    \n",
    "    # Calculate ROC curve and AUC\n",
    "    fpr, tpr, thresholds = metrics.roc_curve(y_test, predictions)\n",
    "    roc_auc = metrics.auc(fpr, tpr)\n",
    "    \n",
    "    # Create subplots for ROC curve and confusion matrix\n",
    "    fig, (ax1, ax2) = plt.subplots(2, 1, figsize=(6, 8))\n",
    "    \n",
    "    # Plot ROC curve\n",
    "    ax1.plot(fpr, tpr, label='Neural network (AUC = {:.2f})'.format(roc_auc))\n",
    "    ax1.plot([0, 1], [0, 1], 'g--')\n",
    "    ax1.set_xlim([0, 1])\n",
    "    ax1.set_ylim([0, 1])\n",
    "    ax1.set_xlabel('False Positive Rate')\n",
    "    ax1.set_ylabel('True Positive Rate')\n",
    "    ax1.set_title('ROC Curve')\n",
    "    ax1.legend(loc='lower right')\n",
    "    \n",
    "    # Convert predictions to binary values\n",
    "    predictions = np.rint(predictions)\n",
    "    \n",
    "    # Calculate confusion matrix\n",
    "    cm = confusion_matrix(y_test, predictions)\n",
    "    \n",
    "    # Define labels and counts for confusion matrix\n",
    "    labels = ['True Negative', 'False Positive', 'False Negative', 'True Positive']\n",
    "    counts = [value for value in cm.flatten()]\n",
    "    percentages = ['{0:.2%}'.format(value) for value in cm.flatten() / np.sum(cm)]\n",
    "    names = [f'{v1}\\n{v2}\\n{v3}' for v1, v2, v3 in zip(labels, counts, percentages)]\n",
    "    names = np.asarray(names).reshape(2, 2)\n",
    "    \n",
    "    # Plot confusion matrix as heatmap\n",
    "    sns.heatmap(cm, annot=names, cmap='crest', fmt='', ax=ax2)\n",
    "    ax2.set_xlabel('Predicted')\n",
    "    ax2.set_ylabel('True')\n",
    "    ax2.set_title('Confusion Matrix')\n",
    "    \n",
    "    # Adjust spacing between subplots\n",
    "    fig.tight_layout()\n",
    "    \n",
    "    # Print classification report\n",
    "    print('\\tClassification Report:\\n\\n', classification_report(y_test, predictions, target_names=['Negative', 'Positive']))\n"
   ]
  },
  {
   "cell_type": "code",
   "execution_count": 291,
   "id": "84d6b227",
   "metadata": {},
   "outputs": [
    {
     "name": "stdout",
     "output_type": "stream",
     "text": [
      "782/782 [==============================] - 1s 1ms/step\n",
      "\tClassification Report:\n",
      "\n",
      "               precision    recall  f1-score   support\n",
      "\n",
      "    Negative       0.86      0.87      0.87     12500\n",
      "    Positive       0.87      0.86      0.87     12500\n",
      "\n",
      "    accuracy                           0.87     25000\n",
      "   macro avg       0.87      0.87      0.87     25000\n",
      "weighted avg       0.87      0.87      0.87     25000\n",
      "\n"
     ]
    },
    {
     "data": {
      "image/png": "[encoded data removed]",
      "text/plain": [
       "<Figure size 600x800 with 3 Axes>"
      ]
     },
     "metadata": {},
     "output_type": "display_data"
    }
   ],
   "source": [
    "classifier_evaluation(model, X_test, y_test)"
   ]
  },
  {
   "cell_type": "code",
   "execution_count": 404,
   "id": "d1288b02",
   "metadata": {},
   "outputs": [],
   "source": [
    "# Model for multi-hot encode approach"
   ]
  },
  {
   "cell_type": "code",
   "execution_count": 416,
   "id": "dcdec19f",
   "metadata": {},
   "outputs": [],
   "source": [
    "(X_train, y_train), (X_test, y_test) = imdb.load_data(num_words=n_words)"
   ]
  },
  {
   "cell_type": "code",
   "execution_count": 417,
   "id": "e3adb481",
   "metadata": {},
   "outputs": [],
   "source": [
    "# Vectorize reviews\n",
    "def vectorizer(text, dimension=10000):\n",
    "    vectorized = np.zeros((len(text), dimension))\n",
    "    for i, text in enumerate(text):\n",
    "        for j in text:\n",
    "            vectorized[i, j] = 1.\n",
    "    return vectorized"
   ]
  },
  {
   "cell_type": "code",
   "execution_count": 418,
   "id": "ffe80d48",
   "metadata": {},
   "outputs": [],
   "source": [
    "X_train = vectorizer(train_data)\n",
    "X_test = vectorizer(test_data)\n",
    "X_train[0]\n",
    "\n",
    "# Vectorizing labels \n",
    "y_train = np.asarray(train_labels).astype(\"float32\")\n",
    "y_test = np.asarray(test_labels).astype(\"float32\") "
   ]
  },
  {
   "cell_type": "code",
   "execution_count": 419,
   "id": "7f0fdd47",
   "metadata": {},
   "outputs": [],
   "source": [
    "def build_model():\n",
    "    model = models.Sequential([\n",
    "        layers.Dense(32, activation=\"relu\"),\n",
    "        layers.Dense(32, activation=\"relu\"),\n",
    "        layers.Dense(1, activation=\"sigmoid\")\n",
    "    ])\n",
    "    model.compile(optimizer = \"SGD\",\n",
    "                  loss = \"binary_crossentropy\",\n",
    "                  metrics = [\"accuracy\"])\n",
    "    return model"
   ]
  },
  {
   "cell_type": "code",
   "execution_count": 420,
   "id": "7c7b4458",
   "metadata": {},
   "outputs": [],
   "source": [
    "model = build_model()\n",
    "history = model.fit(X_train,\n",
    "                  y_train,\n",
    "                  epochs = epochs,\n",
    "                  batch_size = batch_size,\n",
    "                  verbose=0,\n",
    "                  validation_data = (X_test, y_test)\n",
    "                 )"
   ]
  },
  {
   "cell_type": "markdown",
   "id": "3d9951cd",
   "metadata": {},
   "source": [
    "#### K-Fold Cross Validation\n",
    "\n",
    "K-Fold Cross-validation. It is a resampling procedure used to evaluate machine learning models on a limited data sample. The procedure has a single parameter called k that refers to the number of groups that a given data sample is to be split into. As such, the procedure is often called k-fold cross-validation. The purpose of cross–validation is to test the ability of a machine learning model to predict on unseen data."
   ]
  },
  {
   "cell_type": "code",
   "execution_count": 423,
   "id": "c7a6c5a5",
   "metadata": {},
   "outputs": [
    {
     "name": "stdout",
     "output_type": "stream",
     "text": [
      "Processing fold #0\n",
      "Processing fold #1\n",
      "Processing fold #2\n",
      "Processing fold #3\n",
      "Processing fold #4\n"
     ]
    }
   ],
   "source": [
    "k = 5\n",
    "num_val_samples = len(X_train) // k\n",
    "num_epochs = 10\n",
    "all_scores = []\n",
    "\n",
    "for i in range(k):\n",
    "    print(f\"Processing fold #{i}\")\n",
    "    \n",
    "    val_data = train_data[i * num_val_samples: (i + 1) * num_val_samples]\n",
    "    val_targets = train_labels[i * num_val_samples: (i + 1) * num_val_samples]\n",
    "    \n",
    "    X_train = np.concatenate([\n",
    "        X_train[:i * num_val_samples],\n",
    "        X_train[(i + 1) * num_val_samples:]\n",
    "    ], axis=0)\n",
    "    \n",
    "    y_train = np.concatenate([\n",
    "        y_train[:i * num_val_samples],\n",
    "        y_train[(i + 1) * num_val_samples:]\n",
    "    ], axis=0)\n",
    "    \n",
    "    model = model_builder()\n",
    "    \n",
    "    model.fit(X_train, y_train, epochs=epochs, batch_size=256, verbose=0)\n",
    "    \n",
    "    val_loss, val_acc = model.evaluate(X_test, y_test, verbose=0)\n",
    "    \n",
    "    all_scores.append(val_acc)"
   ]
  },
  {
   "cell_type": "code",
   "execution_count": 424,
   "id": "cb0bb3d0",
   "metadata": {},
   "outputs": [
    {
     "data": {
      "text/plain": [
       "[0.8730000257492065,\n",
       " 0.8691999912261963,\n",
       " 0.8633599877357483,\n",
       " 0.8640000224113464,\n",
       " 0.8629199862480164]"
      ]
     },
     "execution_count": 424,
     "metadata": {},
     "output_type": "execute_result"
    }
   ],
   "source": [
    "all_scores"
   ]
  },
  {
   "cell_type": "markdown",
   "id": "0406cbda",
   "metadata": {},
   "source": [
    "### PyTorch"
   ]
  },
  {
   "cell_type": "markdown",
   "id": "422825c5",
   "metadata": {},
   "source": [
    "### Preparing data with PyTorch Dataset and Dataloader "
   ]
  },
  {
   "cell_type": "markdown",
   "id": "02ddc5ed",
   "metadata": {},
   "source": [
    "Code for processing data samples can get messy and hard to maintain; we ideally want our dataset code to be decoupled from our model training code for better readability and modularity. \n",
    "PyTorch provides two data primitives: torch.utils.data.DataLoader and torch.utils.data.Dataset that allow you to use pre-loaded datasets as well as your own data. \n",
    "\n",
    "- Dataset stores the samples and their corresponding labels  \n",
    "- DataLoader wraps an iterable around the Dataset to enable easy access to the samples."
   ]
  },
  {
   "cell_type": "markdown",
   "id": "3310eecd",
   "metadata": {},
   "source": [
    "#### Generate dataset"
   ]
  },
  {
   "cell_type": "code",
   "execution_count": null,
   "id": "31eb39b2",
   "metadata": {},
   "outputs": [],
   "source": [
    "def generate_image_folder_dataset(dataset, target_path, csv_path):\n",
    "    \n",
    "    images_counter = Counter()\n",
    "    files = []\n",
    "    labels = []\n",
    "\n",
    "    for image, label in tqdm(dataset):\n",
    "        class_folder = target_path + \"/\" + str(label)\n",
    "        if not os.path.exists(class_folder):\n",
    "            os.makedirs(class_folder, exist_ok=True)\n",
    "\n",
    "        images_counter[label] += 1\n",
    "        file_name = f\"/{images_counter[label]:05}.png\"\n",
    "        full_image_file_name = class_folder + file_name\n",
    "\n",
    "        files.append(str(label) + file_name)\n",
    "        labels.append(label)\n",
    "\n",
    "        image = np.array(image)\n",
    "        image = (image * 255).astype(np.uint8)\n",
    "        image = np.transpose(image, [1, 2, 0])\n",
    "        image = cv2.cvtColor(image, cv2.COLOR_GRAY2BGR)\n",
    "\n",
    "        # print(image.dtype)\n",
    "        # print(image.shape)\n",
    "        cv2.imwrite(full_image_file_name, image)\n",
    "\n",
    "        \n",
    "    pd.DataFrame({ \"image\": files, \"label\": labels }).to_csv(csv_path, index=False)\n",
    "\n",
    "generate_image_folder_dataset( mnist_train,  \"./MNIST_image_folder/train\", \"MNIST_image_folder/train.csv\" )\n",
    "generate_image_folder_dataset( mnist_val,  \"./MNIST_image_folder/val\", \"MNIST_image_folder/val.csv\" )"
   ]
  },
  {
   "cell_type": "code",
   "execution_count": null,
   "id": "814d36b6",
   "metadata": {},
   "outputs": [],
   "source": [
    "Customized Dataset \n",
    "\n",
    "class DatasetMNIST(Dataset):\n",
    "    def __init__(self, root='./MNIST_image_folder', train=True, transform=None):\n",
    "        \n",
    "        self.train = train\n",
    "        self.transform = transform\n",
    "\n",
    "        subdir = 'train' if train else 'val'\n",
    "        self.root = root + '/' + subdir\n",
    "\n",
    "        csv_path = 'train.csv' if train else 'val.csv'\n",
    "        self.dataset_index = pd.read_csv(root + '/' + csv_path)\n",
    "\n",
    "\n",
    "    def __len__(self):\n",
    "      return len(self.dataset_index)\n",
    "        \n",
    "\n",
    "    def __getitem__(self, index):\n",
    "        # load image, transform image, return dict with image and class label\n",
    "        sample = self.dataset_index.iloc[index]\n",
    "        image_path = sample['image']\n",
    "        label = sample['label']\n",
    "\n",
    "        fullimage_path = self.root + '/' +image_path\n",
    "        image = cv2.imread(fullimage_path,0)\n",
    "\n",
    "        if self.transform:\n",
    "          image = self.transform(image)\n",
    "        else:\n",
    "          image = image[None, ...] / 255\n",
    "\n",
    "\n",
    "        return {\n",
    "            'image': image,\n",
    "            'label': label\n",
    "        }"
   ]
  },
  {
   "cell_type": "code",
   "execution_count": null,
   "id": "fc5ab425",
   "metadata": {},
   "outputs": [],
   "source": [
    "# Test for the cumstom Dataset\n",
    "\n",
    "def test_dataset(dataset, test_name=\"\"):\n",
    "\n",
    "    assert len(dataset) > 0, f\"{test_name}: dataset length is greater then zero\"\n",
    "\n",
    "    idateset = iter(dataset)\n",
    "    item = next(idateset)\n",
    "\n",
    "    assert isinstance(item, dict), f\"{test_name}: dataset returned dict\"\n",
    "    assert \"image\" in item, f\"{test_name}: dataset item dict has image\"\n",
    "    assert \"label\" in item, f\"{test_name}: dataset item dict has label\"\n",
    "\n",
    "    assert item['image'].shape == (1, 28, 28), f\"{test_name}: dataset image shape is correct. Got: {item['image'].shape}\"\n",
    "\n",
    "mydataset = DatasetMNIST(train=False, transform=transform_to_tensor)\n",
    "test_dataset(mydataset, test_name=\"val\")\n",
    "\n",
    "mydataset = DatasetMNIST(train=True, transform=transform_to_tensor)\n",
    "test_dataset(mydataset, test_name=\"train\")"
   ]
  }
 ],
 "metadata": {
  "kernelspec": {
   "display_name": "Python 3 (ipykernel)",
   "language": "python",
   "name": "python3"
  },
  "language_info": {
   "codemirror_mode": {
    "name": "ipython",
    "version": 3
   },
   "file_extension": ".py",
   "mimetype": "text/x-python",
   "name": "python",
   "nbconvert_exporter": "python",
   "pygments_lexer": "ipython3",
   "version": "3.10.9"
  }
 },
 "nbformat": 4,
 "nbformat_minor": 5
}
