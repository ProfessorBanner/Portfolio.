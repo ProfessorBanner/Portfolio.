{
 "cells": [
  {
   "cell_type": "code",
   "execution_count": 130,
   "id": "abb7768c",
   "metadata": {},
   "outputs": [],
   "source": [
    "from sklearn.preprocessing import OneHotEncoder\n",
    "import seaborn as sns\n",
    "sns.set_style(\"whitegrid\")\n",
    "import matplotlib.pyplot as plt\n",
    "from lifelines import KaplanMeierFitter\n",
    "import matplotlib.pyplot as plt"
   ]
  },
  {
   "cell_type": "markdown",
   "id": "ecf82342",
   "metadata": {},
   "source": [
    "### Information theory and causal inference"
   ]
  },
  {
   "cell_type": "markdown",
   "id": "8c0ac26a",
   "metadata": {},
   "source": [
    "Information theory and causal inference play pivotal role in advancing our understanding of complex systems and enabling intelligent decision-making.\n",
    "\n",
    "**Causal inference** is crucial for extracting meaningful insights from data and making reliable predictions. Causal inference techniques help us move beyond mere correlations and identify the cause-and-effect mechanisms underlying observed data patterns. By uncovering causal relationships, we can make informed predictions, perform counterfactual analyses, and intervene on systems to achieve desired outcomes. Causal inference plays a particularly significant role in domains such as healthcare, economics, and social sciences, where understanding and manipulating causal factors are very important.\n",
    "\n",
    "**Information theory** provides a framework for quantifying and analyzing the amount of information contained in scientific data, enabling scientists to assess the significance of findings, develop efficient data acquisition strategies, and optimize experimental designs. By applying information theory principles, researchers can uncover patterns, reduce noise, and extract essential features, leading to a deeper understanding of natural processes.\n",
    "\n",
    "Causal inference, likewise, helps unravel cause-and-effect relationships in complex systems. By employing causal inference techniques, we can identify the factors that drive observed phenomena, validate hypotheses, and design experiments to test causal relationships rigorously. "
   ]
  },
  {
   "cell_type": "markdown",
   "id": "e4f8ce38",
   "metadata": {},
   "source": [
    "Generate synthetic data"
   ]
  },
  {
   "cell_type": "code",
   "execution_count": 126,
   "id": "e8241872",
   "metadata": {},
   "outputs": [
    {
     "data": {
      "text/html": [
       "<div>\n",
       "<style scoped>\n",
       "    .dataframe tbody tr th:only-of-type {\n",
       "        vertical-align: middle;\n",
       "    }\n",
       "\n",
       "    .dataframe tbody tr th {\n",
       "        vertical-align: top;\n",
       "    }\n",
       "\n",
       "    .dataframe thead th {\n",
       "        text-align: right;\n",
       "    }\n",
       "</style>\n",
       "<table border=\"1\" class=\"dataframe\">\n",
       "  <thead>\n",
       "    <tr style=\"text-align: right;\">\n",
       "      <th></th>\n",
       "      <th>Blood Pressure</th>\n",
       "      <th>Survival Status</th>\n",
       "      <th>Cancer Marker 1</th>\n",
       "      <th>Cancer Marker 2</th>\n",
       "      <th>Height</th>\n",
       "      <th>Weight</th>\n",
       "      <th>Age</th>\n",
       "      <th>Gender</th>\n",
       "      <th>Treatment Group</th>\n",
       "      <th>Survival Time</th>\n",
       "    </tr>\n",
       "  </thead>\n",
       "  <tbody>\n",
       "    <tr>\n",
       "      <th>1072</th>\n",
       "      <td>114.373080</td>\n",
       "      <td>0</td>\n",
       "      <td>0.154833</td>\n",
       "      <td>0.400625</td>\n",
       "      <td>168.793803</td>\n",
       "      <td>63.580186</td>\n",
       "      <td>56.650208</td>\n",
       "      <td>1</td>\n",
       "      <td>Not Treated</td>\n",
       "      <td>5</td>\n",
       "    </tr>\n",
       "    <tr>\n",
       "      <th>1448</th>\n",
       "      <td>130.734375</td>\n",
       "      <td>0</td>\n",
       "      <td>0.439381</td>\n",
       "      <td>0.402845</td>\n",
       "      <td>166.343367</td>\n",
       "      <td>68.194136</td>\n",
       "      <td>38.175561</td>\n",
       "      <td>0</td>\n",
       "      <td>Not Treated</td>\n",
       "      <td>1</td>\n",
       "    </tr>\n",
       "    <tr>\n",
       "      <th>1275</th>\n",
       "      <td>113.327824</td>\n",
       "      <td>0</td>\n",
       "      <td>0.406207</td>\n",
       "      <td>0.341166</td>\n",
       "      <td>163.794327</td>\n",
       "      <td>66.849478</td>\n",
       "      <td>71.644492</td>\n",
       "      <td>1</td>\n",
       "      <td>Not Treated</td>\n",
       "      <td>10</td>\n",
       "    </tr>\n",
       "    <tr>\n",
       "      <th>641</th>\n",
       "      <td>101.279762</td>\n",
       "      <td>0</td>\n",
       "      <td>0.484449</td>\n",
       "      <td>2.979584</td>\n",
       "      <td>168.311599</td>\n",
       "      <td>77.205775</td>\n",
       "      <td>36.555306</td>\n",
       "      <td>1</td>\n",
       "      <td>Treated</td>\n",
       "      <td>2</td>\n",
       "    </tr>\n",
       "    <tr>\n",
       "      <th>1661</th>\n",
       "      <td>119.738394</td>\n",
       "      <td>1</td>\n",
       "      <td>0.178605</td>\n",
       "      <td>0.438978</td>\n",
       "      <td>174.132006</td>\n",
       "      <td>70.592310</td>\n",
       "      <td>51.805217</td>\n",
       "      <td>0</td>\n",
       "      <td>Not Treated</td>\n",
       "      <td>4</td>\n",
       "    </tr>\n",
       "  </tbody>\n",
       "</table>\n",
       "</div>"
      ],
      "text/plain": [
       "      Blood Pressure  Survival Status  Cancer Marker 1  Cancer Marker 2  \\\n",
       "1072      114.373080                0         0.154833         0.400625   \n",
       "1448      130.734375                0         0.439381         0.402845   \n",
       "1275      113.327824                0         0.406207         0.341166   \n",
       "641       101.279762                0         0.484449         2.979584   \n",
       "1661      119.738394                1         0.178605         0.438978   \n",
       "\n",
       "          Height     Weight        Age  Gender Treatment Group  Survival Time  \n",
       "1072  168.793803  63.580186  56.650208       1     Not Treated              5  \n",
       "1448  166.343367  68.194136  38.175561       0     Not Treated              1  \n",
       "1275  163.794327  66.849478  71.644492       1     Not Treated             10  \n",
       "641   168.311599  77.205775  36.555306       1         Treated              2  \n",
       "1661  174.132006  70.592310  51.805217       0     Not Treated              4  "
      ]
     },
     "execution_count": 126,
     "metadata": {},
     "output_type": "execute_result"
    }
   ],
   "source": [
    "np.random.seed(77)\n",
    "num_samples = 1000 # Define the number of samples\n",
    "\n",
    "# Generate treated group data\n",
    "treated_blood_pressure = np.random.normal(110, 5, num_samples)\n",
    "treated_survival_status = np.random.choice([0, 1], size=num_samples, p=[0.8, 0.2])  # Lower survival probability\n",
    "treated_cancer_marker1 = np.random.normal(0.5, 0.1, num_samples)\n",
    "treated_cancer_marker2 = np.random.normal(3, 0.1, num_samples)\n",
    "treated_height = np.random.normal(170, 10, num_samples)\n",
    "treated_weight = np.random.normal(70, 5, num_samples)\n",
    "treated_age = np.random.normal(50, 10, num_samples)\n",
    "treated_gender = np.random.choice([0, 1], size=num_samples)  # 0 for Male, 1 for Female\n",
    "treated_group = ['Treated'] * num_samples\n",
    "\n",
    "# Generate not treated group data\n",
    "not_treated_blood_pressure = np.random.normal(120, 8, num_samples)\n",
    "not_treated_survival_status = np.random.choice([0, 1], size=num_samples, p=[0.4, 0.6])\n",
    "not_treated_cancer_marker1 = np.random.normal(0.3, 0.1, num_samples)\n",
    "not_treated_cancer_marker2 = np.random.normal(0.4, 0.1, num_samples)\n",
    "not_treated_height = np.random.normal(165, 8, num_samples)\n",
    "not_treated_weight = np.random.normal(65, 5, num_samples)\n",
    "not_treated_age = np.random.normal(55, 12, num_samples)\n",
    "not_treated_gender = np.random.choice([0, 1], size=num_samples)  # 0 for Male, 1 for Female\n",
    "not_treated_group = ['Not Treated'] * num_samples\n",
    "\n",
    "# Generate survival time for both groups (up to 10 years)\n",
    "treated_survival_time = np.random.randint(1, 11, num_samples)\n",
    "not_treated_survival_time = np.random.randint(1, 11, num_samples)\n",
    "\n",
    "# Combine treated and not treated data\n",
    "all_blood_pressure = np.concatenate((treated_blood_pressure, not_treated_blood_pressure))\n",
    "all_survival_status = np.concatenate((treated_survival_status, not_treated_survival_status))\n",
    "all_cancer_marker1 = np.concatenate((treated_cancer_marker1, not_treated_cancer_marker1))\n",
    "all_cancer_marker2 = np.concatenate((treated_cancer_marker2, not_treated_cancer_marker2))\n",
    "all_height = np.concatenate((treated_height, not_treated_height))\n",
    "all_weight = np.concatenate((treated_weight, not_treated_weight))\n",
    "all_age = np.concatenate((treated_age, not_treated_age))\n",
    "all_gender = np.concatenate((treated_gender, not_treated_gender))\n",
    "all_group = np.concatenate((treated_group, not_treated_group))\n",
    "all_survival_time = np.concatenate((treated_survival_time, not_treated_survival_time))\n",
    "\n",
    "# Create a DataFrame with features and target\n",
    "df = pd.DataFrame({\n",
    "    'Blood Pressure': all_blood_pressure,\n",
    "    'Survival Status': all_survival_status,\n",
    "    'Cancer Marker 1': all_cancer_marker1,\n",
    "    'Cancer Marker 2': all_cancer_marker2,\n",
    "    'Height': all_height,\n",
    "    'Weight': all_weight,\n",
    "    'Age': all_age,\n",
    "    'Gender': all_gender,\n",
    "    'Treatment Group': all_group,\n",
    "    'Survival Time': all_survival_time\n",
    "})\n",
    "df=df.sample(frac=1) # shuffle\n",
    "\n",
    "df.head(5)\n"
   ]
  },
  {
   "cell_type": "code",
   "execution_count": 127,
   "id": "0f0fbc50",
   "metadata": {},
   "outputs": [
    {
     "data": {
      "text/plain": [
       "0    1173\n",
       "1     827\n",
       "Name: Survival Status, dtype: int64"
      ]
     },
     "execution_count": 127,
     "metadata": {},
     "output_type": "execute_result"
    }
   ],
   "source": [
    "df['Survival Status'].value_counts()"
   ]
  },
  {
   "cell_type": "markdown",
   "id": "91ca37ab",
   "metadata": {},
   "source": [
    "### Causal Inference"
   ]
  },
  {
   "cell_type": "markdown",
   "id": "cc60e5e1",
   "metadata": {},
   "source": [
    "**Average Causal Effect:** The average causal effect refers to the difference in the expected outcomes between a treatment group and a control group. It quantifies the average change in the outcome variable that can be attributed to the treatment. It is commonly used in causal inference to assess the effectiveness or impact of a treatment or intervention.\n",
    "\n",
    "**Causal Odds Ratio:** The causal odds ratio is a measure used to evaluate the effect of a treatment or exposure on the odds of an outcome occurring. It compares the odds of the outcome in the treated group to the odds of the outcome in the control group. The causal odds ratio provides an estimate of the strength and direction of the association between the treatment and the outcome.\n",
    "\n",
    "**Causal Relative Risk:** The causal relative risk measures the ratio of the risk of an outcome in the treated group to the risk of the outcome in the control group. It provides an estimate of the relative change in the risk of the outcome due to the treatment. The causal relative risk is commonly used in epidemiology and clinical research to assess the impact of interventions on disease risk.\n",
    "\n",
    "**Association**: Association refers to the statistical relationship or dependence between two variables. It measures the extent to which changes in one variable are related to changes in another variable. An association does not imply causation, but it suggests that there is a connection or pattern between the variables. Association can be measured using various statistical techniques, such as correlation, contingency tables, regression analysis, or hypothesis testing."
   ]
  },
  {
   "cell_type": "code",
   "execution_count": 128,
   "id": "6848c605",
   "metadata": {},
   "outputs": [],
   "source": [
    "def average_causal_effect(df, treatment_col, outcome_col):\n",
    "    treated_mean = df.loc[df[treatment_col] == 'Treated', outcome_col].mean()\n",
    "    not_treated_mean = df.loc[df[treatment_col] == 'Not Treated', outcome_col].mean()\n",
    "    return treated_mean - not_treated_mean\n",
    "\n",
    "def causal_odds_ratio(df, treatment_col, outcome_col):\n",
    "    treated_outcomes = df.loc[df[treatment_col] == 'Treated', outcome_col].sum()\n",
    "    treated_non_outcomes = df.loc[df[treatment_col] == 'Treated', outcome_col].count() - treated_outcomes\n",
    "    not_treated_outcomes = df.loc[df[treatment_col] == 'Not Treated', outcome_col].sum()\n",
    "    not_treated_non_outcomes = df.loc[df[treatment_col] == 'Not Treated', outcome_col].count() - not_treated_outcomes\n",
    "    return (treated_outcomes / treated_non_outcomes) / (not_treated_outcomes / not_treated_non_outcomes)\n",
    "\n",
    "def causal_relative_risk(df, treatment_col, outcome_col):\n",
    "    treated_outcomes = df.loc[df[treatment_col] == 'Treated', outcome_col].sum()\n",
    "    treated_non_outcomes = df.loc[df[treatment_col] == 'Treated', outcome_col].count() - treated_outcomes\n",
    "    not_treated_outcomes = df.loc[df[treatment_col] == 'Not Treated', outcome_col].sum()\n",
    "    not_treated_non_outcomes = df.loc[df[treatment_col] == 'Not Treated', outcome_col].count() - not_treated_outcomes\n",
    "    return (treated_outcomes / (treated_outcomes + treated_non_outcomes)) / (not_treated_outcomes / (not_treated_outcomes + not_treated_non_outcomes))\n",
    "\n",
    "def association(df, treatment_col, outcome_col):\n",
    "    treated_mean = df.loc[df[treatment_col] == 'Treated', outcome_col].mean()\n",
    "    not_treated_mean = df.loc[df[treatment_col] == 'Not Treated', outcome_col].mean()\n",
    "    return treated_mean - not_treated_mean"
   ]
  },
  {
   "cell_type": "code",
   "execution_count": 123,
   "id": "c083b87a",
   "metadata": {},
   "outputs": [
    {
     "name": "stdout",
     "output_type": "stream",
     "text": [
      "Average Causal Effect: -0.372\n",
      "Causal Odds Ratio: 0.19405681899426092\n",
      "Causal Relative Risk: 0.37055837563451777\n",
      "Association (α): -0.372\n"
     ]
    }
   ],
   "source": [
    "# Calculate the average causal effect\n",
    "ace = average_causal_effect(df, 'Treatment Group', 'Survival Status')\n",
    "print('Average Causal Effect:', ace)\n",
    "\n",
    "# Calculate the causal odds ratio\n",
    "cor = causal_odds_ratio(df, 'Treatment Group', 'Survival Status')\n",
    "print('Causal Odds Ratio:', cor)\n",
    "\n",
    "# Calculate the causal relative risk\n",
    "crr = causal_relative_risk(df, 'Treatment Group', 'Survival Status')\n",
    "print('Causal Relative Risk:', crr)\n",
    "\n",
    "# Calculate the association between two variables\n",
    "assos = association(df, 'Treatment Group', 'Survival Status')\n",
    "print(\"Association (α):\", assos)"
   ]
  },
  {
   "cell_type": "code",
   "execution_count": 118,
   "id": "fd0a17b2",
   "metadata": {},
   "outputs": [
    {
     "data": {
      "image/png": "[encoded data removed]",
      "text/plain": [
       "<Figure size 800x600 with 1 Axes>"
      ]
     },
     "metadata": {},
     "output_type": "display_data"
    }
   ],
   "source": [
    "# Create a bar plot of Survival Status by Treatment Group\n",
    "plt.figure(figsize=(8, 6))\n",
    "sns.countplot(x='Survival Status', hue='Treatment Group', data=df)\n",
    "plt.xlabel('Survival Status')\n",
    "plt.ylabel('Count')\n",
    "plt.title('Distribution of Survival Status by Treatment Group')\n",
    "plt.legend(title='Treatment Group')\n",
    "plt.show()"
   ]
  },
  {
   "cell_type": "code",
   "execution_count": 119,
   "id": "457098b3",
   "metadata": {},
   "outputs": [
    {
     "data": {
      "image/png": "[encoded data removed]",
      "text/plain": [
       "<Figure size 640x480 with 1 Axes>"
      ]
     },
     "metadata": {},
     "output_type": "display_data"
    }
   ],
   "source": [
    "# Fit Kaplan-Meier curves for each treatment group\n",
    "kmf = KaplanMeierFitter()\n",
    "kmf.fit(df['Survival Time'], event_observed=df['Survival Status'], label='All')\n",
    "kmf.plot()\n",
    "\n",
    "kmf.fit(df.loc[df['Treatment Group'] == 'Treated', 'Survival Time'], event_observed=df.loc[df['Treatment Group'] == 'Treated', 'Survival Status'], label='Treated')\n",
    "kmf.plot()\n",
    "\n",
    "kmf.fit(df.loc[df['Treatment Group'] == 'Not Treated', 'Survival Time'], event_observed=df.loc[df['Treatment Group'] == 'Not Treated', 'Survival Status'], label='Not Treated')\n",
    "kmf.plot()\n",
    "\n",
    "plt.xlabel('Time')\n",
    "plt.ylabel('Survival Probability')\n",
    "plt.title('Kaplan-Meier Survival Curves')\n",
    "plt.legend()\n",
    "plt.show()"
   ]
  }
 ],
 "metadata": {
  "kernelspec": {
   "display_name": "Python 3 (ipykernel)",
   "language": "python",
   "name": "python3"
  },
  "language_info": {
   "codemirror_mode": {
    "name": "ipython",
    "version": 3
   },
   "file_extension": ".py",
   "mimetype": "text/x-python",
   "name": "python",
   "nbconvert_exporter": "python",
   "pygments_lexer": "ipython3",
   "version": "3.10.9"
  }
 },
 "nbformat": 4,
 "nbformat_minor": 5
}
