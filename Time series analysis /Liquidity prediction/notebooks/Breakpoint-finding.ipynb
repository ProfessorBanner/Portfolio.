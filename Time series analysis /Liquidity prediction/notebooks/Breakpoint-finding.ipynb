{
 "cells": [
  {
   "cell_type": "code",
   "execution_count": 1,
   "id": "b2c4bfe2",
   "metadata": {},
   "outputs": [],
   "source": [
    "import numpy as np\n",
    "import pandas as pd\n",
    "\n",
    "import matplotlib\n",
    "import matplotlib.pyplot as plt\n",
    "import seaborn as sns\n",
    "from tqdm.notebook import tqdm\n",
    "\n",
    "import sys\n",
    "from pathlib import Path\n",
    "\n",
    "base_dir = Path().resolve().parent\n",
    "data_dir = base_dir / 'data'\n",
    "sys.path.append(str(base_dir))"
   ]
  },
  {
   "cell_type": "code",
   "execution_count": 6,
   "id": "9bf52504",
   "metadata": {},
   "outputs": [],
   "source": [
    "data = pd.read_excel(data_dir / 'originalData.xlsx')"
   ]
  },
  {
   "cell_type": "code",
   "execution_count": 7,
   "id": "b0e449bb",
   "metadata": {},
   "outputs": [
    {
     "data": {
      "text/html": [
       "<div>\n",
       "<style scoped>\n",
       "    .dataframe tbody tr th:only-of-type {\n",
       "        vertical-align: middle;\n",
       "    }\n",
       "\n",
       "    .dataframe tbody tr th {\n",
       "        vertical-align: top;\n",
       "    }\n",
       "\n",
       "    .dataframe thead th {\n",
       "        text-align: right;\n",
       "    }\n",
       "</style>\n",
       "<table border=\"1\" class=\"dataframe\">\n",
       "  <thead>\n",
       "    <tr style=\"text-align: right;\">\n",
       "      <th></th>\n",
       "      <th>Date</th>\n",
       "      <th>Income</th>\n",
       "      <th>Outcome</th>\n",
       "      <th>Balance</th>\n",
       "    </tr>\n",
       "  </thead>\n",
       "  <tbody>\n",
       "    <tr>\n",
       "      <th>0</th>\n",
       "      <td>2017-01-09 00:00:00.000</td>\n",
       "      <td>1.343028</td>\n",
       "      <td>1.487865</td>\n",
       "      <td>-0.155904</td>\n",
       "    </tr>\n",
       "    <tr>\n",
       "      <th>1</th>\n",
       "      <td>2017-01-10 00:00:00.000</td>\n",
       "      <td>1.068610</td>\n",
       "      <td>1.194182</td>\n",
       "      <td>-0.125572</td>\n",
       "    </tr>\n",
       "    <tr>\n",
       "      <th>2</th>\n",
       "      <td>2017-01-11 00:00:00.000</td>\n",
       "      <td>0.944429</td>\n",
       "      <td>0.936663</td>\n",
       "      <td>0.007767</td>\n",
       "    </tr>\n",
       "    <tr>\n",
       "      <th>3</th>\n",
       "      <td>2017-01-12 00:00:00.000</td>\n",
       "      <td>1.672202</td>\n",
       "      <td>0.875379</td>\n",
       "      <td>0.800391</td>\n",
       "    </tr>\n",
       "    <tr>\n",
       "      <th>4</th>\n",
       "      <td>2017-01-13 00:00:00.000</td>\n",
       "      <td>0.955924</td>\n",
       "      <td>0.975645</td>\n",
       "      <td>-0.019721</td>\n",
       "    </tr>\n",
       "  </tbody>\n",
       "</table>\n",
       "</div>"
      ],
      "text/plain": [
       "                      Date    Income   Outcome   Balance\n",
       "0  2017-01-09 00:00:00.000  1.343028  1.487865 -0.155904\n",
       "1  2017-01-10 00:00:00.000  1.068610  1.194182 -0.125572\n",
       "2  2017-01-11 00:00:00.000  0.944429  0.936663  0.007767\n",
       "3  2017-01-12 00:00:00.000  1.672202  0.875379  0.800391\n",
       "4  2017-01-13 00:00:00.000  0.955924  0.975645 -0.019721"
      ]
     },
     "execution_count": 7,
     "metadata": {},
     "output_type": "execute_result"
    }
   ],
   "source": [
    "data.head()"
   ]
  },
  {
   "attachments": {},
   "cell_type": "markdown",
   "id": "b1e13ad9",
   "metadata": {},
   "source": [
    "#### Discord Detection using Cumulative Sum:\n",
    "\n",
    "The cumulative sum method was employed to detect discord in the mean of the time series. By calculating the cumulative sum, we can identify significant shifts or anomalies in the data.\n",
    "\n",
    "#### Manual Hyperparameter Selection:\n",
    "\n",
    "For this implementation, hyperparameters were manually selected based on visual correspondence. Although manual selection can be effective, it is recommended to explore automated approaches for hyperparameter optimization to ensure better generalization and scalability of the model."
   ]
  },
  {
   "cell_type": "code",
   "execution_count": 8,
   "id": "dea7989e",
   "metadata": {},
   "outputs": [],
   "source": [
    "import tslib.cusum_finder as cusum_finder\n",
    "\n",
    "var = 1.\n",
    "alpha = 0.05\n",
    "beta = 0.005\n",
    "mean_diff = -0.01 # descending discords\n",
    "\n",
    "stat_trajectory = []\n",
    "mean_values = []\n",
    "\n",
    "cusum = cusum_finder.CusumFinder(alpha, beta, mean_diff, \n",
    "                              trsh=0.03, slice_length=5, breaks_max=3)\n",
    "for k, x_k in enumerate(data['Balance'].values):\n",
    "    cusum.update(x_k)\n",
    "    cusum.count_metric()\n",
    "    stat_trajectory.append(cusum.metric)\n",
    "    mean_values.append(cusum.mean_hat)"
   ]
  },
  {
   "cell_type": "code",
   "execution_count": null,
   "id": "1d0a9a19",
   "metadata": {},
   "outputs": [],
   "source": [
    "# Statistics\n",
    "fig, ax = plt.subplots(figsize=(15,8))\n",
    "\n",
    "for i in range(1, len(stat_trajectory)):\n",
    "    \n",
    "    x = [i-1, i]\n",
    "    y = [stat_trajectory[i-1], stat_trajectory[i]]\n",
    "    \n",
    "    ax.plot(x, y, color=cusum.breakpoints[i])\n",
    "  \n",
    "\n",
    "plt.title('Statistics values. Red values - discord')\n",
    "plt.show()"
   ]
  },
  {
   "cell_type": "code",
   "execution_count": null,
   "id": "bb0bcf20",
   "metadata": {},
   "outputs": [],
   "source": [
    "# Saldo\n",
    "fig, ax = plt.subplots(figsize=(15,8))\n",
    "\n",
    "for i in range(1, len(data['Balance'].values)):\n",
    "    \n",
    "    x = [i-1, i]\n",
    "    y = [data['Balance'].values[i-1], data['Balance'].values[i]]\n",
    "    \n",
    "    ax.plot(x, y, color=cusum.breakpoints[i])\n",
    "    \n",
    "ax.plot([i for i in range(1, len(stat_trajectory))], mean_values[1:], color='black',label='Mean value')  \n",
    "plt.title('Balance values. Red values - discord')\n",
    "plt.legend()\n",
    "plt.show()"
   ]
  },
  {
   "attachments": {},
   "cell_type": "markdown",
   "id": "e7b3fdba",
   "metadata": {},
   "source": [
    "### Shiryaev-Roberts Statistics for Discord Detection in Variance\n",
    "The Shiryaev-Roberts statistics method was utilized to detect discord in the variance of the time series. This statistical technique allows us to identify significant changes or anomalies in the variability of the data.\n",
    "\n",
    "Manual Selection of Hyperparameters. In this implementation, hyperparameters were manually selected based on visual correspondence. While manual selection can provide initial insights, it is advisable to explore automated approaches for hyperparameter optimization. Automated methods, such as grid search or Bayesian optimization, can help identify the optimal hyperparameters for improved model performance and generalization. By automating the selection process, we can ensure better scalability and reproducibility of the model."
   ]
  },
  {
   "cell_type": "code",
   "execution_count": 11,
   "id": "e73250ec",
   "metadata": {},
   "outputs": [],
   "source": [
    "import tslib.shiryaev_roberts_finder as sr_finder\n",
    "\n",
    "alpha = 0.01\n",
    "beta = 0.05\n",
    "sigma_diff = 0.5\n",
    "\n",
    "stat_trajectory = []\n",
    "mean_values = []\n",
    "\n",
    "sr = sr_finder.SRFinder(alpha=alpha, beta=beta, sigma_diff=sigma_diff, ceil=200,\n",
    "                              trsh=20, slice_length=5, breaks_max=3)\n",
    "for k, x_k in enumerate(data['Balance'].values):\n",
    "    sr.update(x_k)\n",
    "    sr.count_metric()\n",
    "    stat_trajectory.append(sr.metric)\n",
    "    mean_values.append(sr.mean_hat)"
   ]
  },
  {
   "cell_type": "code",
   "execution_count": null,
   "id": "f77f9439",
   "metadata": {},
   "outputs": [],
   "source": [
    "fig, ax = plt.subplots(figsize=(15,8))\n",
    "\n",
    "for i in range(1, len(stat_trajectory)):\n",
    "    \n",
    "    x = [i-1, i]\n",
    "    y = [stat_trajectory[i-1], stat_trajectory[i]]\n",
    "    \n",
    "    ax.plot(x, y, color=sr.breakpoints[i])\n",
    "    \n",
    "plt.title('Statistics values. Red values - discord')\n",
    "plt.show()"
   ]
  },
  {
   "cell_type": "code",
   "execution_count": null,
   "id": "231c0b83",
   "metadata": {},
   "outputs": [],
   "source": [
    "fig, ax = plt.subplots(figsize=(15,8))\n",
    "\n",
    "for i in range(1, len(data['Balance'].values)):\n",
    "    \n",
    "    x = [i-1, i]\n",
    "    y = [data['Balance'].values[i-1], data['Balance'].values[i]]\n",
    "    \n",
    "    ax.plot(x, y, color=sr.breakpoints[i])\n",
    "    \n",
    "ax.plot([i for i in range(1, len(stat_trajectory))], mean_values[1:], color='black',label='Mean value')\n",
    "plt.title('Balance values. Red values - discord')\n",
    "plt.legend()\n",
    "plt.show()"
   ]
  }
 ],
 "metadata": {
  "kernelspec": {
   "display_name": "Python 3",
   "language": "python",
   "name": "python3"
  },
  "language_info": {
   "codemirror_mode": {
    "name": "ipython",
    "version": 3
   },
   "file_extension": ".py",
   "mimetype": "text/x-python",
   "name": "python",
   "nbconvert_exporter": "python",
   "pygments_lexer": "ipython3",
   "version": "3.8.8"
  }
 },
 "nbformat": 4,
 "nbformat_minor": 5
}
