{
 "cells": [
  {
   "cell_type": "code",
   "execution_count": 1,
   "metadata": {},
   "outputs": [],
   "source": [
    "import sys\n",
    "from pathlib import Path\n",
    "import numpy as np\n",
    "import pandas as pd\n",
    "from tqdm.notebook import tqdm\n",
    "\n",
    "%load_ext autoreload\n",
    "%autoreload 2\n",
    "\n",
    "import matplotlib.pyplot as plt\n",
    "%config InlineBackend.figure_format='retina'\n",
    "plt.rcParams[\"figure.dpi\"] = 70\n",
    "\n",
    "base_dir = Path().resolve().parent\n",
    "data_dir = base_dir / 'data'\n",
    "sys.path.append(str(base_dir))"
   ]
  },
  {
   "attachments": {},
   "cell_type": "markdown",
   "metadata": {
    "pycharm": {
     "name": "#%% md\n"
    }
   },
   "source": [
    "## Features and preprocessing"
   ]
  },
  {
   "cell_type": "code",
   "execution_count": null,
   "metadata": {},
   "outputs": [],
   "source": [
    "data = pd.read_csv(data_dir / 'finalFeatures.csv', index_col=0)\n",
    "data['Date'] = pd.to_datetime(data['Date'])\n",
    "data.set_index('Date', inplace=True)\n",
    "\n",
    "\n",
    "data.dropna(inplace=True)\n",
    "\n",
    "data = data.drop(columns=['Income', 'Outcome'])\n",
    "target = 'Balance'\n",
    "features = list(data.drop(columns=target).columns)\n",
    "\n",
    "train_threshold = int(data.shape[0] * 0.8)\n",
    "data_train, data_test = data.iloc[:train_threshold], data.iloc[train_threshold:]\n",
    "X, y = data[features], data[target]\n",
    "X_train, y_train = data_train[features], data_train[target]\n",
    "X_test, y_test = data_test[features], data_test[target]"
   ]
  },
  {
   "attachments": {},
   "cell_type": "markdown",
   "metadata": {
    "pycharm": {
     "name": "#%% md\n"
    }
   },
   "source": [
    "## Model (features and hyperparameters). Additional training and clibration."
   ]
  },
  {
   "cell_type": "code",
   "execution_count": null,
   "metadata": {},
   "outputs": [],
   "source": [
    "from sklearn.svm import SVR\n",
    "from tslib.calibrate import calibrate_model\n",
    "from tslib.scoring import get_score\n",
    "\n",
    "params = {'C': [0.1, 0.5, 1, 5, 10],\n",
    "          'kernel': ['rbf', 'linear', 'poly'],\n",
    "          'gamma': ['auto', 'scale']}\n",
    "          \n",
    "model = calibrate_model(SVR, params, X_train, y_train)\n",
    "\n",
    "pred = model.predict(X_test)\n",
    "get_score(y_test, pred)"
   ]
  },
  {
   "cell_type": "code",
   "execution_count": null,
   "metadata": {},
   "outputs": [],
   "source": [
    "period_retrain_calibrate = 'M'\n",
    "\n",
    "base_sample_size = 500  # Sample size\n",
    "sample_size = data.shape[0]"
   ]
  },
  {
   "cell_type": "code",
   "execution_count": null,
   "metadata": {},
   "outputs": [],
   "source": [
    "# Tracking discordance\n",
    "\n",
    "import tslib.cusum_finder as cusum_finder\n",
    "\n",
    "var = 1.\n",
    "alpha = 0.05\n",
    "beta = 0.005\n",
    "\n",
    "# Рассматриваем разладки убывающие\n",
    "mean_diff = -0.01\n",
    "\n",
    "stat_trajectory = []\n",
    "mean_values = []\n",
    "\n",
    "cusum = cusum_finder.CusumFinder(alpha, beta, mean_diff, \n",
    "                              trsh=0.03, slice_length=5, breaks_max=3)\n",
    "\n",
    "# Discorance metrics calculation \n",
    "stat_trajectory = []\n",
    "for y_k in y_train.values[:base_sample_size]:\n",
    "    cusum.update(y_k)\n",
    "    cusum.count_metric()\n",
    "    stat_trajectory.append(cusum.metric)\n",
    "\n",
    "# Discordance counter \n",
    "breakpoint = False"
   ]
  },
  {
   "cell_type": "code",
   "execution_count": null,
   "metadata": {},
   "outputs": [],
   "source": [
    "model = calibrate_model(SVR, params, X_train, y_train)\n",
    "\n",
    "metrics = []\n",
    "\n",
    "for new_sample_size in tqdm(range(base_sample_size, sample_size)):\n",
    "\n",
    "    current_data_train = data.iloc[:new_sample_size]\n",
    "    current_data_test = data.iloc[new_sample_size:new_sample_size+1]\n",
    "\n",
    "    X_train, y_train = current_data_train[features], current_data_train[target]\n",
    "    \n",
    "    # Define discordance (if more >= 10 days of the last 15 we have misses)\n",
    "    if np.sum(np.array(cusum.breakpoints[-15:]) == 'red') >= 10:\n",
    "        model = calibrate_model(SVR, params, X_train, y_train)\n",
    "        breakpoint = True\n",
    "    else:\n",
    "        breakpoint = False\n",
    "        \n",
    "    X_test, y_test = current_data_test[features], current_data_test[target]\n",
    "\n",
    "    if period_retrain_calibrate == 'M' and breakpoint == False:\n",
    "        if X_test.index[0].day == 1:\n",
    "            model = calibrate_model(SVR, params, X_train, y_train)\n",
    "\n",
    "\n",
    "    pred = model.predict(X_test)\n",
    "    metrics.append(get_score(y_test, pred))\n",
    "    \n",
    "    # Update statistics\n",
    "    cusum.update(y_test.values[0])\n",
    "    cusum.count_metric()\n",
    "    stat_trajectory.append(cusum.metric)"
   ]
  },
  {
   "cell_type": "code",
   "execution_count": null,
   "metadata": {},
   "outputs": [],
   "source": [
    "fig, ax = plt.subplots(figsize=(15,8))\n",
    "\n",
    "for i in range(1, len(data['Balance'].values)):\n",
    "    \n",
    "    x = [i-1, i]\n",
    "    y = [data['Balance'].values[i-1], data['Balance'].values[i]]\n",
    "    \n",
    "    ax.plot(x, y, color=cusum.breakpoints[i])\n",
    "    \n",
    "plt.title('Saldo. Red observations - discordance')\n",
    "plt.show()"
   ]
  },
  {
   "cell_type": "code",
   "execution_count": null,
   "metadata": {},
   "outputs": [],
   "source": [
    "plt.plot(metrics, label=f'total score = {sum(metrics):.2f}')\n",
    "plt.legend();"
   ]
  }
 ],
 "metadata": {
  "kernelspec": {
   "display_name": "Python 3",
   "language": "python",
   "name": "python3"
  },
  "language_info": {
   "codemirror_mode": {
    "name": "ipython",
    "version": 3
   },
   "file_extension": ".py",
   "mimetype": "text/x-python",
   "name": "python",
   "nbconvert_exporter": "python",
   "pygments_lexer": "ipython3",
   "version": "3.8.8"
  }
 },
 "nbformat": 4,
 "nbformat_minor": 1
}
